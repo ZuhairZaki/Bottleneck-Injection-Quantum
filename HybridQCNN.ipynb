{
  "nbformat": 4,
  "nbformat_minor": 0,
  "metadata": {
    "colab": {
      "provenance": []
    },
    "kernelspec": {
      "name": "python3",
      "display_name": "Python 3"
    },
    "language_info": {
      "name": "python"
    }
  },
  "cells": [
    {
      "cell_type": "code",
      "execution_count": null,
      "metadata": {
        "id": "pGd6wd17jhRx"
      },
      "outputs": [],
      "source": [
        "!pip install pennylane torch torchvision"
      ]
    },
    {
      "cell_type": "code",
      "source": [
        "import torch\n",
        "import torch.nn as nn\n",
        "import torchvision.transforms as transforms\n",
        "import torchvision.datasets as datasets\n",
        "import pennylane as qml\n",
        "from pennylane import numpy as np"
      ],
      "metadata": {
        "id": "w5urHcrIjiOn"
      },
      "execution_count": 2,
      "outputs": []
    },
    {
      "cell_type": "code",
      "source": [
        "class ClassicalCNN(nn.Module):\n",
        "    def __init__(self):\n",
        "        super(ClassicalCNN, self).__init__()\n",
        "        self.conv_layer = nn.Sequential(\n",
        "            nn.Conv2d(1, 8, kernel_size=3, stride=1, padding=1),  # For grayscale (e.g., MNIST)\n",
        "            nn.ReLU(),\n",
        "            nn.MaxPool2d(2)\n",
        "        )\n",
        "        self.flatten = nn.Flatten()\n",
        "        self.fc1 = nn.Linear(8 * 14 * 14, 4)  # Output is a 4-dimensional feature vector\n",
        "\n",
        "    def forward(self, x):\n",
        "        x = self.conv_layer(x)\n",
        "        x = self.flatten(x)\n",
        "        x = self.fc1(x)\n",
        "        return x"
      ],
      "metadata": {
        "id": "jUeqE94xkD07"
      },
      "execution_count": 3,
      "outputs": []
    },
    {
      "cell_type": "code",
      "source": [
        "n_qubits = 4\n",
        "dev = qml.device(\"default.qubit\", wires=n_qubits)\n",
        "\n",
        "@qml.qnode(dev, interface=\"torch\")\n",
        "def quantum_circuit(inputs, weights):\n",
        "    qml.AngleEmbedding(inputs, wires=range(n_qubits))\n",
        "    qml.templates.BasicEntanglerLayers(weights, wires=range(n_qubits))\n",
        "    return [qml.expval(qml.PauliZ(i)) for i in range(n_qubits)]\n",
        "\n",
        "\n",
        "weight_shapes = {\"weights\": (3, n_qubits)}  # 3 layers of entanglement\n",
        "\n",
        "class QNNLayer(nn.Module):\n",
        "    def __init__(self):\n",
        "        super().__init__()\n",
        "        self.qlayer = qml.qnn.TorchLayer(quantum_circuit, weight_shapes)\n",
        "\n",
        "    def forward(self, x):\n",
        "        return self.qlayer(x)"
      ],
      "metadata": {
        "id": "IJQr1RMrkGMm"
      },
      "execution_count": 10,
      "outputs": []
    },
    {
      "cell_type": "code",
      "source": [
        "class HybridModel(nn.Module):\n",
        "    def __init__(self):\n",
        "        super().__init__()\n",
        "        self.cnn = ClassicalCNN()\n",
        "        self.qnn = QNNLayer()\n",
        "        self.classifier = nn.Linear(n_qubits, 10)  # For 10-class classification (e.g., MNIST)\n",
        "\n",
        "    def forward(self, x):\n",
        "        x = self.cnn.forward(x)\n",
        "        # print(\"CNN output shape:\", x.shape)\n",
        "        x = self.qnn.forward(x)\n",
        "        x = self.classifier(x)\n",
        "        return x"
      ],
      "metadata": {
        "id": "jqi6X1bVkJP9"
      },
      "execution_count": 22,
      "outputs": []
    },
    {
      "cell_type": "code",
      "source": [
        "transform = transforms.Compose([transforms.ToTensor()])\n",
        "train_data = datasets.MNIST(root='./data', train=True, transform=transform, download=True)\n",
        "train_loader = torch.utils.data.DataLoader(train_data, batch_size=32, shuffle=True)\n",
        "\n",
        "model = HybridModel()\n",
        "optimizer = torch.optim.Adam(model.parameters(), lr=0.001)\n",
        "loss_fn = nn.CrossEntropyLoss()"
      ],
      "metadata": {
        "id": "JuAkjvptkLaY"
      },
      "execution_count": 23,
      "outputs": []
    },
    {
      "cell_type": "code",
      "source": [
        "epochs = 10  # Use more epochs for better performance\n",
        "\n",
        "for epoch in range(epochs):\n",
        "    total_loss = 0\n",
        "    for images, labels in train_loader:\n",
        "        optimizer.zero_grad()\n",
        "        # print(images.shape)\n",
        "        output = model.forward(images)\n",
        "        loss = loss_fn(output, labels)\n",
        "        loss.backward()\n",
        "        optimizer.step()\n",
        "        total_loss += loss.item()\n",
        "    print(f\"Epoch {epoch + 1} - Loss: {total_loss / len(train_loader)}\")"
      ],
      "metadata": {
        "colab": {
          "base_uri": "https://localhost:8080/"
        },
        "id": "RL-49KnokP_5",
        "outputId": "1fc010ad-bce2-44ed-d80f-c189c82871a7"
      },
      "execution_count": 24,
      "outputs": [
        {
          "output_type": "stream",
          "name": "stdout",
          "text": [
            "Epoch 1 - Loss: 1.3543202925364177\n",
            "Epoch 2 - Loss: 0.7916740535100301\n",
            "Epoch 3 - Loss: 0.6189913605848948\n",
            "Epoch 4 - Loss: 0.49776414051055906\n",
            "Epoch 5 - Loss: 0.41231038419802984\n",
            "Epoch 6 - Loss: 0.3559258437832197\n",
            "Epoch 7 - Loss: 0.32229574682513873\n",
            "Epoch 8 - Loss: 0.2998269109447797\n",
            "Epoch 9 - Loss: 0.2825857165733973\n",
            "Epoch 10 - Loss: 0.26941237897276876\n"
          ]
        }
      ]
    },
    {
      "cell_type": "code",
      "source": [
        "# Using the trained model, infer a sample image\n",
        "sample_image, _ = train_data[10]  # Get the first sample from the training data\n",
        "out = model.forward(sample_image.unsqueeze(0))\n",
        "#Show the image\n",
        "import matplotlib.pyplot as plt\n",
        "plt.imshow(sample_image.squeeze(), cmap='gray')\n",
        "plt.show()\n",
        "print(f\"Predicted class: {torch.argmax(out).item()}\")"
      ],
      "metadata": {
        "colab": {
          "base_uri": "https://localhost:8080/",
          "height": 447
        },
        "id": "vQ3m2-b6kUfk",
        "outputId": "748e0050-cf8d-4d78-bc5c-678d54b8eb3b"
      },
      "execution_count": 28,
      "outputs": [
        {
          "output_type": "display_data",
          "data": {
            "text/plain": [
              "<Figure size 640x480 with 1 Axes>"
            ],
            "image/png": "[encoded data removed]"
          },
          "metadata": {}
        },
        {
          "output_type": "stream",
          "name": "stdout",
          "text": [
            "Predicted class: 3\n"
          ]
        }
      ]
    },
    {
      "cell_type": "code",
      "source": [],
      "metadata": {
        "id": "xKK97AW-rtCt"
      },
      "execution_count": null,
      "outputs": []
    }
  ]
}